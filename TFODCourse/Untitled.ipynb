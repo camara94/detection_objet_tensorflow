{
 "cells": [
  {
   "cell_type": "markdown",
   "id": "aafd5d92-7689-453c-8017-7347c7729ee3",
   "metadata": {},
   "source": [
    "## Collection des images"
   ]
  },
  {
   "cell_type": "code",
   "execution_count": null,
   "id": "ac32bb57-55d3-4d06-bd19-c82eaa20b3cb",
   "metadata": {},
   "outputs": [],
   "source": [
    "!pip install opencv-python"
   ]
  },
  {
   "cell_type": "code",
   "execution_count": null,
   "id": "df80754f-030f-44f1-b7f7-75510574fea4",
   "metadata": {},
   "outputs": [],
   "source": []
  }
 ],
 "metadata": {
  "kernelspec": {
   "display_name": "tfod",
   "language": "python",
   "name": "tfod"
  },
  "language_info": {
   "codemirror_mode": {
    "name": "ipython",
    "version": 3
   },
   "file_extension": ".py",
   "mimetype": "text/x-python",
   "name": "python",
   "nbconvert_exporter": "python",
   "pygments_lexer": "ipython3",
   "version": "3.8.5"
  }
 },
 "nbformat": 4,
 "nbformat_minor": 5
}
