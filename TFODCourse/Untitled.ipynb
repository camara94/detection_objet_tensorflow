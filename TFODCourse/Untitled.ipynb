{
 "cells": [
  {
   "cell_type": "markdown",
   "id": "aafd5d92-7689-453c-8017-7347c7729ee3",
   "metadata": {},
   "source": [
    "## Collection des images"
   ]
  },
  {
   "cell_type": "code",
   "execution_count": 1,
   "id": "ac32bb57-55d3-4d06-bd19-c82eaa20b3cb",
   "metadata": {},
   "outputs": [],
   "source": [
    "# !pip install opencv-python"
   ]
  },
  {
   "cell_type": "markdown",
   "id": "100b5580-cee1-4b81-bdf4-88680351a34e",
   "metadata": {},
   "source": [
    "## Importation des Packages"
   ]
  },
  {
   "cell_type": "code",
   "execution_count": 2,
   "id": "b6a3a5dc-d344-48f7-9101-c78f30934875",
   "metadata": {},
   "outputs": [],
   "source": [
    "# OpenCV\n",
    "import cv2\n",
    "\n",
    "# uuid\n",
    "import uuid\n",
    "\n",
    "## Opérations sur le Système d'exploitation\n",
    "import os\n",
    "\n",
    "# la gestion du temps\n",
    "import time"
   ]
  },
  {
   "cell_type": "markdown",
   "id": "9ecf3409-4462-46eb-a1c8-fe4745631e00",
   "metadata": {},
   "source": [
    "## Définition des images à collecter"
   ]
  },
  {
   "cell_type": "code",
   "execution_count": null,
   "id": "6440691d-881d-494d-8f73-59b7ab1ab8bc",
   "metadata": {},
   "outputs": [],
   "source": [
    "# labels = ['thumbsup', 'thumbsdown', 'thankyou', 'livelong']\n",
    "labels = ['lunette', 'brosseadent', 'patedentifrice', 'montre', 'peignecheveux',  'telephone', 'livre',]\n",
    "number_images = 7"
   ]
  },
  {
   "cell_type": "markdown",
   "id": "2f0450c1-30bc-4a40-ac4d-2dfc1d5cf55d",
   "metadata": {},
   "source": [
    "## Configuration du dossier des images"
   ]
  },
  {
   "cell_type": "code",
   "execution_count": null,
   "id": "9c2be974-0c7c-4f47-b6a7-9328e4089ca5",
   "metadata": {},
   "outputs": [],
   "source": [
    "IMAGES_PATH = os.path.join('.', 'tensorflow', 'workspace', 'images', 'collectedimages')"
   ]
  },
  {
   "cell_type": "code",
   "execution_count": null,
   "id": "d09cc932-1796-4f0a-ae29-21181c3746cd",
   "metadata": {},
   "outputs": [],
   "source": [
    "IMAGES_PATH"
   ]
  },
  {
   "cell_type": "code",
   "execution_count": null,
   "id": "1867edb3-5f6c-4dfe-a451-12571abea851",
   "metadata": {},
   "outputs": [],
   "source": [
    "if not os.path.exists(IMAGES_PATH):\n",
    "    if os.name == 'posix':\n",
    "        !mkdir - {IMAGES_PATH}\n",
    "    if os.name == 'nt':\n",
    "        !mkdir {IMAGES_PATH}\n",
    "        \n",
    "for label in labels:\n",
    "    path = os.path.join(IMAGES_PATH, label)\n",
    "    if not os.path.exists(path):\n",
    "        !mkdir {path}"
   ]
  },
  {
   "cell_type": "markdown",
   "id": "0dac9633-172b-43b0-95c3-7ffe6034c9a2",
   "metadata": {},
   "source": [
    "## Capture des Images WebCam"
   ]
  },
  {
   "cell_type": "code",
   "execution_count": null,
   "id": "90488f39-b900-4a3b-81a6-1a46280a0372",
   "metadata": {},
   "outputs": [],
   "source": [
    "for label in labels:\n",
    "    cap = cv2.VideoCapture(0) # Se connecter à son webcam\n",
    "    print(f'Récuperer l\\'image pour {label}')\n",
    "    time.sleep(5)\n",
    "    for imgnum in range(number_images):\n",
    "        print('Collecting image {}'.format(imgnum))\n",
    "        ret, frame = cap.read()\n",
    "        imgname = os.path.join(IMAGES_PATH,label,label+'.'+'{}.jpg'.format(str(uuid.uuid1())))\n",
    "        cv2.imwrite(imgname, frame)\n",
    "        cv2.imshow('frame', frame)\n",
    "        time.sleep(2)\n",
    "\n",
    "        if cv2.waitKey(1) & 0xFF == ord('q'):\n",
    "            break\n",
    "cap.release()\n",
    "cv2.destroyAllWindows()"
   ]
  },
  {
   "cell_type": "markdown",
   "id": "f4075cc6-0d4c-4715-9498-645fc8a0f4e9",
   "metadata": {},
   "source": [
    "## Etiquetage des Images"
   ]
  },
  {
   "cell_type": "code",
   "execution_count": null,
   "id": "a81557e5-2932-4990-be47-aafac8c59c65",
   "metadata": {},
   "outputs": [],
   "source": [
    "# !pip install --upgrade pyqt5 lxml"
   ]
  },
  {
   "cell_type": "code",
   "execution_count": null,
   "id": "b7d1b23e-d0af-44a8-8e52-a00352add30d",
   "metadata": {},
   "outputs": [],
   "source": [
    "# !pip list"
   ]
  },
  {
   "cell_type": "code",
   "execution_count": null,
   "id": "b2b15a5c-2364-4f16-80bf-ec0e2a6f4501",
   "metadata": {},
   "outputs": [],
   "source": [
    "LABEL_IMAGES_PATH = os.path.join('.', 'tensorflow', 'labelimg')"
   ]
  },
  {
   "cell_type": "code",
   "execution_count": null,
   "id": "63ad5286-77ee-44f8-8602-81106152bc86",
   "metadata": {},
   "outputs": [],
   "source": [
    "if not os.path.exists(LABEL_IMAGES_PATH):\n",
    "    !mkdir {LABEL_IMAGES_PATH}\n",
    "    !git clone https://github.com/tzutalin/labelImg {LABEL_IMAGES_PATH}"
   ]
  },
  {
   "cell_type": "code",
   "execution_count": null,
   "id": "3954bd55-d7ef-4721-aca4-1e49204c785a",
   "metadata": {},
   "outputs": [],
   "source": [
    "if os.name == 'posix':\n",
    "    !make qt5py3\n",
    "if os.name =='nt':\n",
    "    !cd {LABEL_IMAGES_PATH} && pyrcc5 -o libs/resources.py resources.qrc"
   ]
  },
  {
   "cell_type": "code",
   "execution_count": null,
   "id": "651d38cb-9f9f-43b5-83e3-d9dc7455f8d3",
   "metadata": {},
   "outputs": [],
   "source": [
    "!cd {LABEL_IMAGES_PATH} && python labelImg.py"
   ]
  },
  {
   "cell_type": "markdown",
   "id": "1110dcda-94c3-4670-b924-bc4ff30a280c",
   "metadata": {},
   "source": [
    "## Déplacez-les dans une partition de train et de test"
   ]
  },
  {
   "cell_type": "markdown",
   "id": "0ff033ba-de19-4b12-b704-f559c190e9bb",
   "metadata": {},
   "source": [
    "## FACULTATIF -  Compressez-les pour l'entrinement Colab¶"
   ]
  },
  {
   "cell_type": "code",
   "execution_count": null,
   "id": "1d910359-04e0-4292-800f-9e9e11b1fa62",
   "metadata": {},
   "outputs": [],
   "source": [
    "TRAIN_PATH = os.path.join('Tensorflow', 'workspace', 'images', 'train')\n",
    "TEST_PATH = os.path.join('Tensorflow', 'workspace', 'images', 'test')\n",
    "ARCHIVE_PATH = os.path.join('Tensorflow', 'workspace', 'images', 'archive.tar.gz')\n",
    "ARCHIVE_PATH_Win = os.path.join('Tensorflow', 'workspace', 'images', 'archive.tar.gz')"
   ]
  },
  {
   "cell_type": "code",
   "execution_count": null,
   "id": "cfa996fb-0150-4159-a517-662b1956e3e0",
   "metadata": {},
   "outputs": [],
   "source": [
    "!tar -czf {ARCHIVE_PATH} {TRAIN_PATH} {TEST_PATH}"
   ]
  },
  {
   "cell_type": "code",
   "execution_count": null,
   "id": "b5fc6cbd-ca96-4030-9a98-b7b7861e47a6",
   "metadata": {},
   "outputs": [],
   "source": [
    "# !tar -czf {ARCHIVE_PATH_Win} {TRAIN_PATH} {TEST_PATH}"
   ]
  },
  {
   "cell_type": "markdown",
   "id": "a9bf0434-9646-4d49-b2af-a426a1de8277",
   "metadata": {},
   "source": [
    "## Entraînez le modèle tfod à l'aide des scripts fournis, cela peut prendre un peu de temps en fonction de votre machine"
   ]
  },
  {
   "cell_type": "code",
   "execution_count": 3,
   "id": "12d2b849-b0fd-436d-8f78-779753a9cd03",
   "metadata": {},
   "outputs": [],
   "source": [
    "CUSTOM_MODEL_NAME = 'my_ssd_mobnet' \n",
    "PRETRAINED_MODEL_NAME = 'ssd_mobilenet_v2_fpnlite_320x320_coco17_tpu-8'\n",
    "PRETRAINED_MODEL_URL = 'http://download.tensorflow.org/models/object_detection/tf2/20200711/ssd_mobilenet_v2_fpnlite_320x320_coco17_tpu-8.tar.gz'\n",
    "TF_RECORD_SCRIPT_NAME = 'generate_tfrecord.py'\n",
    "LABEL_MAP_NAME = 'label_map.pbtxt'"
   ]
  },
  {
   "cell_type": "code",
   "execution_count": 4,
   "id": "0dbaf0ae-7631-4854-9904-00d50e110da6",
   "metadata": {},
   "outputs": [],
   "source": [
    "paths = {\n",
    "    'WORKSPACE_PATH': os.path.join('Tensorflow', 'workspace'),\n",
    "    'SCRIPTS_PATH': os.path.join('Tensorflow','scripts'),\n",
    "    'APIMODEL_PATH': os.path.join('Tensorflow','models'),\n",
    "    'ANNOTATION_PATH': os.path.join('Tensorflow', 'workspace','annotations'),\n",
    "    'IMAGE_PATH': os.path.join('Tensorflow', 'workspace','images'),\n",
    "    'MODEL_PATH': os.path.join('Tensorflow', 'workspace','models'),\n",
    "    'PRETRAINED_MODEL_PATH': os.path.join('Tensorflow', 'workspace','pre-trained-models'),\n",
    "    'CHECKPOINT_PATH': os.path.join('Tensorflow', 'workspace','models',CUSTOM_MODEL_NAME), \n",
    "    'OUTPUT_PATH': os.path.join('Tensorflow', 'workspace','models',CUSTOM_MODEL_NAME, 'export'), \n",
    "    'TFJS_PATH':os.path.join('Tensorflow', 'workspace','models',CUSTOM_MODEL_NAME, 'tfjsexport'), \n",
    "    'TFLITE_PATH':os.path.join('Tensorflow', 'workspace','models',CUSTOM_MODEL_NAME, 'tfliteexport'), \n",
    "    'PROTOC_PATH':os.path.join('Tensorflow','protoc')\n",
    " }"
   ]
  },
  {
   "cell_type": "code",
   "execution_count": 5,
   "id": "cfd9aeab-dd34-44e0-b5cc-f11369c86408",
   "metadata": {},
   "outputs": [],
   "source": [
    "# files = {\n",
    "#     'PIPELINE_CONFIG':os.path.join('Tensorflow', 'workspace','models', CUSTOM_MODEL_NAME, 'pipeline.config'),\n",
    "#     'TF_RECORD_SCRIPT': os.path.join(paths['SCRIPTS_PATH'], TF_RECORD_SCRIPT_NAME), \n",
    "#     'LABELMAP': os.path.join(paths['ANNOTATION_PATH'], LABEL_MAP_NAME)\n",
    "# }"
   ]
  },
  {
   "cell_type": "code",
   "execution_count": 6,
   "id": "8fd58dea-386f-4711-930b-3312a00e1986",
   "metadata": {},
   "outputs": [],
   "source": [
    "# for path in paths.values():\n",
    "#     if not os.path.exists(path):\n",
    "#         if os.name == 'posix':\n",
    "#             !mkdir -p {path}\n",
    "#         if os.name == 'nt':\n",
    "#             !mkdir {path}"
   ]
  },
  {
   "cell_type": "code",
   "execution_count": null,
   "id": "509c340b-5fc3-45e4-bb9a-cd69e7430102",
   "metadata": {},
   "outputs": [],
   "source": []
  },
  {
   "cell_type": "markdown",
   "id": "6ddc576e-b2ee-438a-bed0-17a896072d48",
   "metadata": {},
   "source": [
    "##  Téléchargez des modèles pré-entraînés de modèles TF à partir de Tensorflow Model Zoo et installez TFOD"
   ]
  },
  {
   "cell_type": "code",
   "execution_count": 7,
   "id": "fa44e27f-0a56-429f-89db-0eec4fa3fb4b",
   "metadata": {},
   "outputs": [
    {
     "name": "stdout",
     "output_type": "stream",
     "text": [
      "Requirement already satisfied: wget in c:\\users\\damaro\\detection_objet_tensorflow\\tfodcourse\\tfod\\lib\\site-packages (3.2)\n"
     ]
    }
   ],
   "source": [
    "if os.name=='nt':\n",
    "    !pip install wget\n",
    "    import wget"
   ]
  },
  {
   "cell_type": "code",
   "execution_count": null,
   "id": "965e3d00-d7b8-4e65-b727-dec5201631fa",
   "metadata": {},
   "outputs": [],
   "source": [
    "# if not os.path.exists(os.path.join(paths['APIMODEL_PATH'], 'research', 'object_detection')):\n",
    "#     !git clone https://github.com/tensorflow/models {paths['APIMODEL_PATH']}"
   ]
  },
  {
   "cell_type": "code",
   "execution_count": null,
   "id": "f2cf8280-62af-4c09-9a81-bc2abf12b8de",
   "metadata": {},
   "outputs": [],
   "source": [
    "# if os.name=='posix':  \n",
    "#     !apt-get install protobuf-compiler\n",
    "#     !cd Tensorflow/models/research && protoc object_detection/protos/*.proto --python_out=. && cp object_detection/packages/tf2/setup.py . && python -m pip install . \n",
    "    \n",
    "# if os.name=='nt':\n",
    "#     url=\"https://github.com/protocolbuffers/protobuf/releases/download/v3.15.6/protoc-3.15.6-win64.zip\"\n",
    "#     wget.download(url)\n",
    "#     !move protoc-3.15.6-win64.zip {paths['PROTOC_PATH']}\n",
    "#     !cd {paths['PROTOC_PATH']} && tar -xf protoc-3.15.6-win64.zip\n",
    "#     os.environ['PATH'] += os.pathsep + os.path.abspath(os.path.join(paths['PROTOC_PATH'], 'bin'))   \n",
    "#     !cd Tensorflow/models/research && protoc object_detection/protos/*.proto --python_out=. && copy object_detection\\\\packages\\\\tf2\\\\setup.py setup.py && python setup.py build && python setup.py install\n",
    "#     !cd Tensorflow/models/research/slim && pip install -e . "
   ]
  },
  {
   "cell_type": "code",
   "execution_count": null,
   "id": "bf3a3183-2e84-4692-8db7-841158e87582",
   "metadata": {},
   "outputs": [],
   "source": [
    "!pip install tensorflow --upgrade"
   ]
  },
  {
   "cell_type": "code",
   "execution_count": null,
   "id": "b1c96691-4dd2-47fc-936b-b7d6b3dcbffc",
   "metadata": {},
   "outputs": [],
   "source": [
    "!pip uninstall protobuf matplotlib -y\n",
    "!pip install protobuf matplotlib==3.2"
   ]
  },
  {
   "cell_type": "code",
   "execution_count": 8,
   "id": "92c08b0f-9b63-4c13-8a0d-d1703c265e85",
   "metadata": {},
   "outputs": [],
   "source": [
    "import object_detection"
   ]
  },
  {
   "cell_type": "code",
   "execution_count": 9,
   "id": "2186a840-0ef5-45a5-8582-83381a0d60e2",
   "metadata": {},
   "outputs": [
    {
     "name": "stdout",
     "output_type": "stream",
     "text": [
      "Package                      Version             Editable project location\n",
      "---------------------------- ------------------- -------------------------------------------------------------------------------------\n",
      "absl-py                      1.0.0\n",
      "apache-beam                  2.37.0rc2\n",
      "asttokens                    2.0.5\n",
      "astunparse                   1.6.3\n",
      "avro-python3                 1.10.2\n",
      "backcall                     0.2.0\n",
      "black                        22.1.0\n",
      "cachetools                   5.0.0\n",
      "certifi                      2021.10.8\n",
      "charset-normalizer           2.0.12\n",
      "click                        8.0.4\n",
      "colorama                     0.4.4\n",
      "contextlib2                  21.6.0\n",
      "cycler                       0.11.0\n",
      "Cython                       3.0.0a10\n",
      "debugpy                      1.5.1\n",
      "decorator                    5.1.1\n",
      "entrypoints                  0.4\n",
      "executing                    0.8.2\n",
      "flatbuffers                  2.0\n",
      "gast                         0.5.3\n",
      "google-auth                  2.6.0\n",
      "google-auth-oauthlib         0.4.6\n",
      "google-pasta                 0.2.0\n",
      "grpcio                       1.44.0\n",
      "h5py                         3.6.0\n",
      "idna                         3.3\n",
      "importlib-metadata           4.11.1\n",
      "ipykernel                    6.9.1\n",
      "ipython                      8.0.1\n",
      "jedi                         0.18.1\n",
      "jupyter-client               7.1.2\n",
      "jupyter-core                 4.9.2\n",
      "keras                        2.8.0\n",
      "Keras-Preprocessing          1.1.2\n",
      "kiwisolver                   1.3.2\n",
      "libclang                     13.0.0\n",
      "lvis                         0.5.3\n",
      "lxml                         4.8.0\n",
      "Markdown                     3.3.6\n",
      "matplotlib                   3.2.0\n",
      "matplotlib-inline            0.1.3\n",
      "mypy-extensions              0.4.3\n",
      "nest-asyncio                 1.5.4\n",
      "numpy                        1.22.2\n",
      "oauthlib                     3.2.0\n",
      "object-detection             0.1\n",
      "opencv-python                4.5.5.62\n",
      "opt-einsum                   3.3.0\n",
      "pandas                       1.4.1\n",
      "parso                        0.8.3\n",
      "pathspec                     0.9.0\n",
      "pi                           0.1.2\n",
      "pickleshare                  0.7.5\n",
      "Pillow                       9.0.1\n",
      "pip                          22.0.3\n",
      "platformdirs                 2.5.1\n",
      "prompt-toolkit               3.0.28\n",
      "protobuf                     3.19.4\n",
      "pure-eval                    0.2.2\n",
      "pyasn1                       0.4.8\n",
      "pyasn1-modules               0.2.8\n",
      "pycocotools                  2.0.4\n",
      "Pygments                     2.11.2\n",
      "pyparsing                    3.0.7\n",
      "PyQt5                        5.15.6\n",
      "PyQt5-Qt5                    5.15.2\n",
      "PyQt5-sip                    12.9.1\n",
      "python-dateutil              2.8.2\n",
      "pywin32                      303\n",
      "pyzmq                        22.3.0\n",
      "requests                     2.27.1\n",
      "requests-oauthlib            1.3.1\n",
      "rsa                          4.8\n",
      "scipy                        1.8.0\n",
      "setuptools                   47.1.0\n",
      "six                          1.16.0\n",
      "slim                         0.1                 c:\\users\\damaro\\detection_objet_tensorflow\\tfodcourse\\tensorflow\\models\\research\\slim\n",
      "stack-data                   0.2.0\n",
      "tensorboard                  2.8.0\n",
      "tensorboard-data-server      0.6.1\n",
      "tensorboard-plugin-wit       1.8.1\n",
      "tensorflow                   2.8.0\n",
      "tensorflow-io                0.24.0\n",
      "tensorflow-io-gcs-filesystem 0.24.0\n",
      "termcolor                    1.1.0\n",
      "tf-estimator-nightly         2.8.0.dev2021122109\n",
      "tf-models-official           2.8.0\n",
      "tf-slim                      1.1.0\n",
      "tomli                        2.0.1\n",
      "tornado                      6.1\n",
      "traitlets                    5.1.1\n",
      "typing_extensions            4.1.1\n",
      "urllib3                      1.26.8\n",
      "wcwidth                      0.2.5\n",
      "Werkzeug                     2.0.3\n",
      "wget                         3.2\n",
      "wheel                        0.37.1\n",
      "wrapt                        1.13.3\n",
      "zipp                         3.7.0\n"
     ]
    }
   ],
   "source": [
    "!pip list"
   ]
  },
  {
   "cell_type": "code",
   "execution_count": 10,
   "id": "c8bb4706-cd2a-4907-a8bb-cdaff4f850a9",
   "metadata": {},
   "outputs": [
    {
     "name": "stdout",
     "output_type": "stream",
     "text": [
      "100% [.................................................................] 20515344 / 20515344        1 fichier(s) d‚plac‚(s).\n"
     ]
    },
    {
     "name": "stderr",
     "output_type": "stream",
     "text": [
      "x ssd_mobilenet_v2_fpnlite_320x320_coco17_tpu-8/\n",
      "x ssd_mobilenet_v2_fpnlite_320x320_coco17_tpu-8/checkpoint/\n",
      "x ssd_mobilenet_v2_fpnlite_320x320_coco17_tpu-8/checkpoint/ckpt-0.data-00000-of-00001\n",
      "x ssd_mobilenet_v2_fpnlite_320x320_coco17_tpu-8/checkpoint/checkpoint\n",
      "x ssd_mobilenet_v2_fpnlite_320x320_coco17_tpu-8/checkpoint/ckpt-0.index\n",
      "x ssd_mobilenet_v2_fpnlite_320x320_coco17_tpu-8/pipeline.config\n",
      "x ssd_mobilenet_v2_fpnlite_320x320_coco17_tpu-8/saved_model/\n",
      "x ssd_mobilenet_v2_fpnlite_320x320_coco17_tpu-8/saved_model/saved_model.pb\n",
      "x ssd_mobilenet_v2_fpnlite_320x320_coco17_tpu-8/saved_model/variables/\n",
      "x ssd_mobilenet_v2_fpnlite_320x320_coco17_tpu-8/saved_model/variables/variables.data-00000-of-00001\n",
      "x ssd_mobilenet_v2_fpnlite_320x320_coco17_tpu-8/saved_model/variables/variables.index\n"
     ]
    }
   ],
   "source": [
    "if os.name =='posix':\n",
    "    !wget {PRETRAINED_MODEL_URL}\n",
    "    !mv {PRETRAINED_MODEL_NAME+'.tar.gz'} {paths['PRETRAINED_MODEL_PATH']}\n",
    "    !cd {paths['PRETRAINED_MODEL_PATH']} && tar -zxvf {PRETRAINED_MODEL_NAME+'.tar.gz'}\n",
    "if os.name == 'nt':\n",
    "    wget.download(PRETRAINED_MODEL_URL)\n",
    "    !move {PRETRAINED_MODEL_NAME+'.tar.gz'} {paths['PRETRAINED_MODEL_PATH']}\n",
    "    !cd {paths['PRETRAINED_MODEL_PATH']} && tar -zxvf {PRETRAINED_MODEL_NAME+'.tar.gz'}"
   ]
  },
  {
   "cell_type": "markdown",
   "id": "a3402120-dbaf-4eec-930b-bc01a28f1163",
   "metadata": {},
   "source": [
    "## Create Label Map"
   ]
  },
  {
   "cell_type": "code",
   "execution_count": null,
   "id": "2b23178f-1d81-4ec1-a77e-b27b9ae2aed9",
   "metadata": {},
   "outputs": [],
   "source": [
    "labels = [{'name':'ThumbsUp', 'id':1}, {'name':'ThumbsDown', 'id':2}, {'name':'ThankYou', 'id':3}, {'name':'LiveLong', 'id':4}]\n",
    "labels = [\n",
    "    {'name': 'lunette', 'id': 1}, \n",
    "    {'name': 'brosseadent', 'id': 2},\n",
    "    {'name': 'patedentifrice', 'id': 3},\n",
    "    {'name': 'montre', 'id': 4},\n",
    "    {'name': 'peignecheveux', 'id': 5},\n",
    "    {'name': 'telephone', 'id': 6},\n",
    "    {'name': 'livre', 'id': 7}\n",
    "]\n",
    "with open(files['LABELMAP'], 'w') as f:\n",
    "    for label in labels:\n",
    "        f.write('item { \\n')\n",
    "        f.write('\\tname:\\'{}\\'\\n'.format(label['name']))\n",
    "        f.write('\\tid:{}\\n'.format(label['id']))\n",
    "        f.write('}\\n')"
   ]
  }
 ],
 "metadata": {
  "kernelspec": {
   "display_name": "tfod",
   "language": "python",
   "name": "tfod"
  },
  "language_info": {
   "codemirror_mode": {
    "name": "ipython",
    "version": 3
   },
   "file_extension": ".py",
   "mimetype": "text/x-python",
   "name": "python",
   "nbconvert_exporter": "python",
   "pygments_lexer": "ipython3",
   "version": "3.8.5"
  }
 },
 "nbformat": 4,
 "nbformat_minor": 5
}
