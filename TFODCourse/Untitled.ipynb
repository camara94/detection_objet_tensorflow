{
 "cells": [
  {
   "cell_type": "markdown",
   "id": "aafd5d92-7689-453c-8017-7347c7729ee3",
   "metadata": {},
   "source": [
    "## Collection des images"
   ]
  },
  {
   "cell_type": "code",
   "execution_count": 4,
   "id": "ac32bb57-55d3-4d06-bd19-c82eaa20b3cb",
   "metadata": {},
   "outputs": [],
   "source": [
    "# !pip install opencv-python"
   ]
  },
  {
   "cell_type": "markdown",
   "id": "100b5580-cee1-4b81-bdf4-88680351a34e",
   "metadata": {},
   "source": [
    "## Importation des Packages"
   ]
  },
  {
   "cell_type": "code",
   "execution_count": 12,
   "id": "b6a3a5dc-d344-48f7-9101-c78f30934875",
   "metadata": {},
   "outputs": [],
   "source": [
    "# OpenCV\n",
    "import cv2\n",
    "\n",
    "# uuid\n",
    "import uuid\n",
    "\n",
    "## Opérations sur le Système d'exploitation\n",
    "import os\n",
    "\n",
    "# la gestion du temps\n",
    "import time"
   ]
  },
  {
   "cell_type": "markdown",
   "id": "9ecf3409-4462-46eb-a1c8-fe4745631e00",
   "metadata": {},
   "source": [
    "## Définition des images à collecter"
   ]
  },
  {
   "cell_type": "code",
   "execution_count": 13,
   "id": "6440691d-881d-494d-8f73-59b7ab1ab8bc",
   "metadata": {},
   "outputs": [],
   "source": [
    "# labels = ['thumbsup', 'thumbsdown', 'thankyou', 'livelong']\n",
    "labels = ['lunette', 'brosseadent', 'patedentifrice', 'montre', 'peignecheveux',  'telephone', 'livre',]\n",
    "number_images = 7"
   ]
  },
  {
   "cell_type": "markdown",
   "id": "2f0450c1-30bc-4a40-ac4d-2dfc1d5cf55d",
   "metadata": {},
   "source": [
    "## Configuration du dossier des images"
   ]
  },
  {
   "cell_type": "code",
   "execution_count": 14,
   "id": "9c2be974-0c7c-4f47-b6a7-9328e4089ca5",
   "metadata": {},
   "outputs": [],
   "source": [
    "IMAGES_PATH = os.path.join('.', 'tensorflow', 'workspace', 'images', 'collectedimages')"
   ]
  },
  {
   "cell_type": "code",
   "execution_count": 15,
   "id": "d09cc932-1796-4f0a-ae29-21181c3746cd",
   "metadata": {},
   "outputs": [
    {
     "data": {
      "text/plain": [
       "'.\\\\tensorflow\\\\workspace\\\\images\\\\collectedimages'"
      ]
     },
     "execution_count": 15,
     "metadata": {},
     "output_type": "execute_result"
    }
   ],
   "source": [
    "IMAGES_PATH"
   ]
  },
  {
   "cell_type": "code",
   "execution_count": 16,
   "id": "1867edb3-5f6c-4dfe-a451-12571abea851",
   "metadata": {},
   "outputs": [],
   "source": [
    "if not os.path.exists(IMAGES_PATH):\n",
    "    if os.name == 'posix':\n",
    "        !mkdir - {IMAGES_PATH}\n",
    "    if os.name == 'nt':\n",
    "        !mkdir {IMAGES_PATH}\n",
    "        \n",
    "for label in labels:\n",
    "    path = os.path.join(IMAGES_PATH, label)\n",
    "    if not os.path.exists(path):\n",
    "        !mkdir {path}"
   ]
  },
  {
   "cell_type": "markdown",
   "id": "0dac9633-172b-43b0-95c3-7ffe6034c9a2",
   "metadata": {},
   "source": [
    "## Capture des Images WebCam"
   ]
  },
  {
   "cell_type": "code",
   "execution_count": 17,
   "id": "90488f39-b900-4a3b-81a6-1a46280a0372",
   "metadata": {},
   "outputs": [
    {
     "name": "stdout",
     "output_type": "stream",
     "text": [
      "Récuperer l'image pour lunette\n",
      "Collecting image 0\n",
      "Collecting image 1\n",
      "Collecting image 2\n",
      "Collecting image 3\n",
      "Collecting image 4\n",
      "Collecting image 5\n",
      "Collecting image 6\n",
      "Récuperer l'image pour brosseadent\n",
      "Collecting image 0\n",
      "Collecting image 1\n",
      "Collecting image 2\n",
      "Collecting image 3\n",
      "Collecting image 4\n",
      "Collecting image 5\n",
      "Collecting image 6\n",
      "Récuperer l'image pour patedentifrice\n",
      "Collecting image 0\n",
      "Collecting image 1\n",
      "Collecting image 2\n",
      "Collecting image 3\n",
      "Collecting image 4\n",
      "Collecting image 5\n",
      "Collecting image 6\n",
      "Récuperer l'image pour montre\n",
      "Collecting image 0\n",
      "Collecting image 1\n",
      "Collecting image 2\n",
      "Collecting image 3\n",
      "Collecting image 4\n",
      "Collecting image 5\n",
      "Collecting image 6\n",
      "Récuperer l'image pour peignecheveux\n",
      "Collecting image 0\n",
      "Collecting image 1\n",
      "Collecting image 2\n",
      "Collecting image 3\n",
      "Collecting image 4\n",
      "Collecting image 5\n",
      "Collecting image 6\n",
      "Récuperer l'image pour telephone\n",
      "Collecting image 0\n",
      "Collecting image 1\n",
      "Collecting image 2\n",
      "Collecting image 3\n",
      "Collecting image 4\n",
      "Collecting image 5\n",
      "Collecting image 6\n",
      "Récuperer l'image pour livre\n",
      "Collecting image 0\n",
      "Collecting image 1\n",
      "Collecting image 2\n",
      "Collecting image 3\n",
      "Collecting image 4\n",
      "Collecting image 5\n",
      "Collecting image 6\n"
     ]
    }
   ],
   "source": [
    "for label in labels:\n",
    "    cap = cv2.VideoCapture(0) # Se connecter à son webcam\n",
    "    print(f'Récuperer l\\'image pour {label}')\n",
    "    time.sleep(5)\n",
    "    for imgnum in range(number_images):\n",
    "        print('Collecting image {}'.format(imgnum))\n",
    "        ret, frame = cap.read()\n",
    "        imgname = os.path.join(IMAGES_PATH,label,label+'.'+'{}.jpg'.format(str(uuid.uuid1())))\n",
    "        cv2.imwrite(imgname, frame)\n",
    "        cv2.imshow('frame', frame)\n",
    "        time.sleep(2)\n",
    "\n",
    "        if cv2.waitKey(1) & 0xFF == ord('q'):\n",
    "            break\n",
    "cap.release()\n",
    "cv2.destroyAllWindows()"
   ]
  },
  {
   "cell_type": "markdown",
   "id": "f4075cc6-0d4c-4715-9498-645fc8a0f4e9",
   "metadata": {},
   "source": [
    "## Etiquetage des Images"
   ]
  },
  {
   "cell_type": "code",
   "execution_count": 19,
   "id": "a81557e5-2932-4990-be47-aafac8c59c65",
   "metadata": {},
   "outputs": [],
   "source": [
    "# !pip install --upgrade pyqt5 lxml"
   ]
  },
  {
   "cell_type": "code",
   "execution_count": 21,
   "id": "b7d1b23e-d0af-44a8-8e52-a00352add30d",
   "metadata": {},
   "outputs": [],
   "source": [
    "# !pip list"
   ]
  },
  {
   "cell_type": "code",
   "execution_count": 26,
   "id": "b2b15a5c-2364-4f16-80bf-ec0e2a6f4501",
   "metadata": {},
   "outputs": [],
   "source": [
    "LABEL_IMAGES_PATH = os.path.join('.', 'tensorflow', 'labelimg')"
   ]
  },
  {
   "cell_type": "code",
   "execution_count": 27,
   "id": "63ad5286-77ee-44f8-8602-81106152bc86",
   "metadata": {},
   "outputs": [
    {
     "name": "stderr",
     "output_type": "stream",
     "text": [
      "Cloning into '.\\tensorflow\\labelimg'...\n"
     ]
    }
   ],
   "source": [
    "if not os.path.exists(LABEL_IMAGES_PATH):\n",
    "    !mkdir {LABEL_IMAGES_PATH}\n",
    "    !git clone https://github.com/tzutalin/labelImg {LABEL_IMAGES_PATH}"
   ]
  },
  {
   "cell_type": "code",
   "execution_count": 28,
   "id": "3954bd55-d7ef-4721-aca4-1e49204c785a",
   "metadata": {},
   "outputs": [],
   "source": [
    "if os.name == 'posix':\n",
    "    !make qt5py3\n",
    "if os.name =='nt':\n",
    "    !cd {LABEL_IMAGES_PATH} && pyrcc5 -o libs/resources.py resources.qrc"
   ]
  },
  {
   "cell_type": "code",
   "execution_count": 29,
   "id": "651d38cb-9f9f-43b5-83e3-d9dc7455f8d3",
   "metadata": {},
   "outputs": [
    {
     "name": "stdout",
     "output_type": "stream",
     "text": [
      "ESC press\n",
      "Cancel creation.\n",
      "Cancel creation.\n",
      "Cancel creation.\n",
      "Image:C:\\Users\\damaro\\detection_objet_tensorflow\\TFODCourse\\tensorflow\\workspace\\images\\collectedimages\\brosseadent\\brosseadent.2bffc381-95ff-11ec-b481-94e979d6190c.jpg -> Annotation:C:/Users/damaro/detection_objet_tensorflow/TFODCourse/tensorflow/workspace/images/collectedimages/brosseadent/brosseadent.2bffc381-95ff-11ec-b481-94e979d6190c.xml\n",
      "Image:C:\\Users\\damaro\\detection_objet_tensorflow\\TFODCourse\\tensorflow\\workspace\\images\\collectedimages\\brosseadent\\brosseadent.2d35d284-95ff-11ec-bbcf-94e979d6190c.jpg -> Annotation:C:/Users/damaro/detection_objet_tensorflow/TFODCourse/tensorflow/workspace/images/collectedimages/brosseadent/brosseadent.2d35d284-95ff-11ec-bbcf-94e979d6190c.xml\n",
      "Image:C:\\Users\\damaro\\detection_objet_tensorflow\\TFODCourse\\tensorflow\\workspace\\images\\collectedimages\\brosseadent\\brosseadent.2ac7dfcb-95ff-11ec-9db0-94e979d6190c.jpg -> Annotation:C:/Users/damaro/detection_objet_tensorflow/TFODCourse/tensorflow/workspace/images/collectedimages/brosseadent/brosseadent.2ac7dfcb-95ff-11ec-9db0-94e979d6190c.xml\n",
      "Cancel creation.\n",
      "Cancel creation.\n",
      "Cancel creation.\n",
      "Image:C:\\Users\\damaro\\detection_objet_tensorflow\\TFODCourse\\tensorflow\\workspace\\images\\collectedimages\\brosseadent\\brosseadent.25ef7cbb-95ff-11ec-b965-94e979d6190c.jpg -> Annotation:C:/Users/damaro/detection_objet_tensorflow/TFODCourse/tensorflow/workspace/images/collectedimages/brosseadent/brosseadent.25ef7cbb-95ff-11ec-b965-94e979d6190c.xml\n",
      "Image:C:\\Users\\damaro\\detection_objet_tensorflow\\TFODCourse\\tensorflow\\workspace\\images\\collectedimages\\brosseadent\\brosseadent.285d9682-95ff-11ec-9bda-94e979d6190c.jpg -> Annotation:C:/Users/damaro/detection_objet_tensorflow/TFODCourse/tensorflow/workspace/images/collectedimages/brosseadent/brosseadent.285d9682-95ff-11ec-9bda-94e979d6190c.xml\n",
      "Image:C:\\Users\\damaro\\detection_objet_tensorflow\\TFODCourse\\tensorflow\\workspace\\images\\collectedimages\\brosseadent\\brosseadent.2992bb2a-95ff-11ec-a335-94e979d6190c.jpg -> Annotation:C:/Users/damaro/detection_objet_tensorflow/TFODCourse/tensorflow/workspace/images/collectedimages/brosseadent/brosseadent.2992bb2a-95ff-11ec-a335-94e979d6190c.xml\n",
      "Image:C:\\Users\\damaro\\detection_objet_tensorflow\\TFODCourse\\tensorflow\\workspace\\images\\collectedimages\\brosseadent\\brosseadent.27264fba-95ff-11ec-92be-94e979d6190c.jpg -> Annotation:C:/Users/damaro/detection_objet_tensorflow/TFODCourse/tensorflow/workspace/images/collectedimages/brosseadent/brosseadent.27264fba-95ff-11ec-92be-94e979d6190c.xml\n",
      "Image:C:\\Users\\damaro\\detection_objet_tensorflow\\TFODCourse\\tensorflow\\workspace\\images\\collectedimages\\livre\\livre.6ab4c5d4-95ff-11ec-a45d-94e979d6190c.jpg -> Annotation:C:/Users/damaro/detection_objet_tensorflow/TFODCourse/tensorflow/workspace/images/collectedimages/livre/livre.6ab4c5d4-95ff-11ec-a45d-94e979d6190c.xml\n",
      "Image:C:\\Users\\damaro\\detection_objet_tensorflow\\TFODCourse\\tensorflow\\workspace\\images\\collectedimages\\livre\\livre.6bed9424-95ff-11ec-aa8e-94e979d6190c.jpg -> Annotation:C:/Users/damaro/detection_objet_tensorflow/TFODCourse/tensorflow/workspace/images/collectedimages/livre/livre.6bed9424-95ff-11ec-aa8e-94e979d6190c.xml\n",
      "Cancel creation.\n",
      "Cancel creation.\n",
      "Cancel creation.\n",
      "Image:C:\\Users\\damaro\\detection_objet_tensorflow\\TFODCourse\\tensorflow\\workspace\\images\\collectedimages\\livre\\livre.64a3e2d1-95ff-11ec-a639-94e979d6190c.jpg -> Annotation:C:/Users/damaro/detection_objet_tensorflow/TFODCourse/tensorflow/workspace/images/collectedimages/livre/livre.64a3e2d1-95ff-11ec-a639-94e979d6190c.xml\n",
      "Image:C:\\Users\\damaro\\detection_objet_tensorflow\\TFODCourse\\tensorflow\\workspace\\images\\collectedimages\\livre\\livre.64a3e2d1-95ff-11ec-a639-94e979d6190c.jpg -> Annotation:C:\\Users\\damaro\\detection_objet_tensorflow\\TFODCourse\\tensorflow\\workspace\\images\\collectedimages\\livre\\livre.64a3e2d1-95ff-11ec-a639-94e979d6190c.xml\n",
      "Cancel creation.\n",
      "Image:C:\\Users\\damaro\\detection_objet_tensorflow\\TFODCourse\\tensorflow\\workspace\\images\\collectedimages\\livre\\livre.65d89234-95ff-11ec-9b5e-94e979d6190c.jpg -> Annotation:C:/Users/damaro/detection_objet_tensorflow/TFODCourse/tensorflow/workspace/images/collectedimages/livre/livre.65d89234-95ff-11ec-9b5e-94e979d6190c.xml\n",
      "Cancel creation.\n",
      "Cancel creation.\n",
      "ESC press\n",
      "Cancel creation.\n",
      "Cancel creation.\n",
      "Cancel creation.\n",
      "Image:C:\\Users\\damaro\\detection_objet_tensorflow\\TFODCourse\\tensorflow\\workspace\\images\\collectedimages\\livre\\livre.670e7a2e-95ff-11ec-9e99-94e979d6190c.jpg -> Annotation:C:/Users/damaro/detection_objet_tensorflow/TFODCourse/tensorflow/workspace/images/collectedimages/livre/livre.670e7a2e-95ff-11ec-9e99-94e979d6190c.xml\n",
      "Image:C:\\Users\\damaro\\detection_objet_tensorflow\\TFODCourse\\tensorflow\\workspace\\images\\collectedimages\\livre\\livre.697f2c09-95ff-11ec-a28b-94e979d6190c.jpg -> Annotation:C:/Users/damaro/detection_objet_tensorflow/TFODCourse/tensorflow/workspace/images/collectedimages/livre/livre.697f2c09-95ff-11ec-a28b-94e979d6190c.xml\n",
      "Cancel creation.\n",
      "Image:C:\\Users\\damaro\\detection_objet_tensorflow\\TFODCourse\\tensorflow\\workspace\\images\\collectedimages\\livre\\livre.6848ceed-95ff-11ec-a68e-94e979d6190c.jpg -> Annotation:C:/Users/damaro/detection_objet_tensorflow/TFODCourse/tensorflow/workspace/images/collectedimages/livre/livre.6848ceed-95ff-11ec-a68e-94e979d6190c.xml\n",
      "Image:C:\\Users\\damaro\\detection_objet_tensorflow\\TFODCourse\\tensorflow\\workspace\\images\\collectedimages\\lunette\\lunette.1a7c4636-95ff-11ec-affc-94e979d6190c.jpg -> Annotation:C:/Users/damaro/detection_objet_tensorflow/TFODCourse/tensorflow/workspace/images/collectedimages/lunette/lunette.1a7c4636-95ff-11ec-affc-94e979d6190c.xml\n",
      "Cancel creation.\n",
      "Image:C:\\Users\\damaro\\detection_objet_tensorflow\\TFODCourse\\tensorflow\\workspace\\images\\collectedimages\\lunette\\lunette.1bb450e5-95ff-11ec-8bab-94e979d6190c.jpg -> Annotation:C:/Users/damaro/detection_objet_tensorflow/TFODCourse/tensorflow/workspace/images/collectedimages/lunette/lunette.1bb450e5-95ff-11ec-8bab-94e979d6190c.xml\n",
      "Image:C:\\Users\\damaro\\detection_objet_tensorflow\\TFODCourse\\tensorflow\\workspace\\images\\collectedimages\\lunette\\lunette.1ced944b-95ff-11ec-bbaf-94e979d6190c.jpg -> Annotation:C:/Users/damaro/detection_objet_tensorflow/TFODCourse/tensorflow/workspace/images/collectedimages/lunette/lunette.1ced944b-95ff-11ec-bbaf-94e979d6190c.xml\n",
      "Image:C:\\Users\\damaro\\detection_objet_tensorflow\\TFODCourse\\tensorflow\\workspace\\images\\collectedimages\\lunette\\lunette.1e24b4af-95ff-11ec-a552-94e979d6190c.jpg -> Annotation:C:/Users/damaro/detection_objet_tensorflow/TFODCourse/tensorflow/workspace/images/collectedimages/lunette/lunette.1e24b4af-95ff-11ec-a552-94e979d6190c.xml\n",
      "Cancel creation.\n",
      "Image:C:\\Users\\damaro\\detection_objet_tensorflow\\TFODCourse\\tensorflow\\workspace\\images\\collectedimages\\lunette\\lunette.1f5a4e7a-95ff-11ec-a979-94e979d6190c.jpg -> Annotation:C:/Users/damaro/detection_objet_tensorflow/TFODCourse/tensorflow/workspace/images/collectedimages/lunette/lunette.1f5a4e7a-95ff-11ec-a979-94e979d6190c.xml\n",
      "Image:C:\\Users\\damaro\\detection_objet_tensorflow\\TFODCourse\\tensorflow\\workspace\\images\\collectedimages\\lunette\\lunette.1943ed43-95ff-11ec-9957-94e979d6190c.jpg -> Annotation:C:/Users/damaro/detection_objet_tensorflow/TFODCourse/tensorflow/workspace/images/collectedimages/lunette/lunette.1943ed43-95ff-11ec-9957-94e979d6190c.xml\n",
      "Cancel creation.\n",
      "Image:C:\\Users\\damaro\\detection_objet_tensorflow\\TFODCourse\\tensorflow\\workspace\\images\\collectedimages\\lunette\\lunette.20905d90-95ff-11ec-bf06-94e979d6190c.jpg -> Annotation:C:/Users/damaro/detection_objet_tensorflow/TFODCourse/tensorflow/workspace/images/collectedimages/lunette/lunette.20905d90-95ff-11ec-bf06-94e979d6190c.xml\n",
      "Image:C:\\Users\\damaro\\detection_objet_tensorflow\\TFODCourse\\tensorflow\\workspace\\images\\collectedimages\\montre\\montre.3f01f1a8-95ff-11ec-b402-94e979d6190c.jpg -> Annotation:C:/Users/damaro/detection_objet_tensorflow/TFODCourse/tensorflow/workspace/images/collectedimages/montre/montre.3f01f1a8-95ff-11ec-b402-94e979d6190c.xml\n",
      "Cancel creation.\n",
      "Image:C:\\Users\\damaro\\detection_objet_tensorflow\\TFODCourse\\tensorflow\\workspace\\images\\collectedimages\\montre\\montre.42a50912-95ff-11ec-a7fa-94e979d6190c.jpg -> Annotation:C:/Users/damaro/detection_objet_tensorflow/TFODCourse/tensorflow/workspace/images/collectedimages/montre/montre.42a50912-95ff-11ec-a7fa-94e979d6190c.xml\n",
      "Cancel creation.\n",
      "Cancel creation.\n",
      "Cancel creation.\n",
      "Image:C:\\Users\\damaro\\detection_objet_tensorflow\\TFODCourse\\tensorflow\\workspace\\images\\collectedimages\\montre\\montre.43db1818-95ff-11ec-bd94-94e979d6190c.jpg -> Annotation:C:/Users/damaro/detection_objet_tensorflow/TFODCourse/tensorflow/workspace/images/collectedimages/montre/montre.43db1818-95ff-11ec-bd94-94e979d6190c.xml\n",
      "Cancel creation.\n",
      "Image:C:\\Users\\damaro\\detection_objet_tensorflow\\TFODCourse\\tensorflow\\workspace\\images\\collectedimages\\montre\\montre.416d7382-95ff-11ec-bcd9-94e979d6190c.jpg -> Annotation:C:/Users/damaro/detection_objet_tensorflow/TFODCourse/tensorflow/workspace/images/collectedimages/montre/montre.416d7382-95ff-11ec-bcd9-94e979d6190c.xml\n",
      "Cancel creation.\n",
      "Cancel creation.\n",
      "Image:C:\\Users\\damaro\\detection_objet_tensorflow\\TFODCourse\\tensorflow\\workspace\\images\\collectedimages\\montre\\montre.403541bd-95ff-11ec-be25-94e979d6190c.jpg -> Annotation:C:/Users/damaro/detection_objet_tensorflow/TFODCourse/tensorflow/workspace/images/collectedimages/montre/montre.403541bd-95ff-11ec-be25-94e979d6190c.xml\n",
      "Image:C:\\Users\\damaro\\detection_objet_tensorflow\\TFODCourse\\tensorflow\\workspace\\images\\collectedimages\\montre\\montre.451286a2-95ff-11ec-a419-94e979d6190c.jpg -> Annotation:C:/Users/damaro/detection_objet_tensorflow/TFODCourse/tensorflow/workspace/images/collectedimages/montre/montre.451286a2-95ff-11ec-a419-94e979d6190c.xml\n",
      "Image:C:\\Users\\damaro\\detection_objet_tensorflow\\TFODCourse\\tensorflow\\workspace\\images\\collectedimages\\montre\\montre.4645135c-95ff-11ec-80ac-94e979d6190c.jpg -> Annotation:C:/Users/damaro/detection_objet_tensorflow/TFODCourse/tensorflow/workspace/images/collectedimages/montre/montre.4645135c-95ff-11ec-80ac-94e979d6190c.xml\n",
      "Cancel creation.\n",
      "Image:C:\\Users\\damaro\\detection_objet_tensorflow\\TFODCourse\\tensorflow\\workspace\\images\\collectedimages\\patedentifrice\\patedentifrice.33af3b62-95ff-11ec-bfc7-94e979d6190c.jpg -> Annotation:C:/Users/damaro/detection_objet_tensorflow/TFODCourse/tensorflow/workspace/images/collectedimages/patedentifrice/patedentifrice.33af3b62-95ff-11ec-bfc7-94e979d6190c.xml\n",
      "Cancel creation.\n",
      "Image:C:\\Users\\damaro\\detection_objet_tensorflow\\TFODCourse\\tensorflow\\workspace\\images\\collectedimages\\patedentifrice\\patedentifrice.34e74637-95ff-11ec-a73b-94e979d6190c.jpg -> Annotation:C:/Users/damaro/detection_objet_tensorflow/TFODCourse/tensorflow/workspace/images/collectedimages/patedentifrice/patedentifrice.34e74637-95ff-11ec-a73b-94e979d6190c.xml\n",
      "Image:C:\\Users\\damaro\\detection_objet_tensorflow\\TFODCourse\\tensorflow\\workspace\\images\\collectedimages\\patedentifrice\\patedentifrice.39c06d46-95ff-11ec-93e1-94e979d6190c.jpg -> Annotation:C:/Users/damaro/detection_objet_tensorflow/TFODCourse/tensorflow/workspace/images/collectedimages/patedentifrice/patedentifrice.39c06d46-95ff-11ec-93e1-94e979d6190c.xml\n",
      "Image:C:\\Users\\damaro\\detection_objet_tensorflow\\TFODCourse\\tensorflow\\workspace\\images\\collectedimages\\patedentifrice\\patedentifrice.361dca68-95ff-11ec-bced-94e979d6190c.jpg -> Annotation:C:/Users/damaro/detection_objet_tensorflow/TFODCourse/tensorflow/workspace/images/collectedimages/patedentifrice/patedentifrice.361dca68-95ff-11ec-bced-94e979d6190c.xml\n",
      "Image:C:\\Users\\damaro\\detection_objet_tensorflow\\TFODCourse\\tensorflow\\workspace\\images\\collectedimages\\patedentifrice\\patedentifrice.388a84ab-95ff-11ec-9a1b-94e979d6190c.jpg -> Annotation:C:/Users/damaro/detection_objet_tensorflow/TFODCourse/tensorflow/workspace/images/collectedimages/patedentifrice/patedentifrice.388a84ab-95ff-11ec-9a1b-94e979d6190c.xml\n",
      "Image:C:\\Users\\damaro\\detection_objet_tensorflow\\TFODCourse\\tensorflow\\workspace\\images\\collectedimages\\patedentifrice\\patedentifrice.37544ea3-95ff-11ec-8dcf-94e979d6190c.jpg -> Annotation:C:/Users/damaro/detection_objet_tensorflow/TFODCourse/tensorflow/workspace/images/collectedimages/patedentifrice/patedentifrice.37544ea3-95ff-11ec-8dcf-94e979d6190c.xml\n",
      "Cancel creation.\n",
      "Image:C:\\Users\\damaro\\detection_objet_tensorflow\\TFODCourse\\tensorflow\\workspace\\images\\collectedimages\\patedentifrice\\patedentifrice.3278902f-95ff-11ec-832a-94e979d6190c.jpg -> Annotation:C:/Users/damaro/detection_objet_tensorflow/TFODCourse/tensorflow/workspace/images/collectedimages/patedentifrice/patedentifrice.3278902f-95ff-11ec-832a-94e979d6190c.xml\n",
      "Cancel creation.\n",
      "Image:C:\\Users\\damaro\\detection_objet_tensorflow\\TFODCourse\\tensorflow\\workspace\\images\\collectedimages\\peignecheveux\\peignecheveux.4b908360-95ff-11ec-88df-94e979d6190c.jpg -> Annotation:C:/Users/damaro/detection_objet_tensorflow/TFODCourse/tensorflow/workspace/images/collectedimages/peignecheveux/peignecheveux.4b908360-95ff-11ec-88df-94e979d6190c.xml\n",
      "ESC press\n",
      "Cancel creation.\n",
      "Image:C:\\Users\\damaro\\detection_objet_tensorflow\\TFODCourse\\tensorflow\\workspace\\images\\collectedimages\\peignecheveux\\peignecheveux.4cc64441-95ff-11ec-9278-94e979d6190c.jpg -> Annotation:C:/Users/damaro/detection_objet_tensorflow/TFODCourse/tensorflow/workspace/images/collectedimages/peignecheveux/peignecheveux.4cc64441-95ff-11ec-9278-94e979d6190c.xml\n",
      "Cancel creation.\n",
      "Cancel creation.\n",
      "Cancel creation.\n",
      "Cancel creation.\n",
      "Image:C:\\Users\\damaro\\detection_objet_tensorflow\\TFODCourse\\tensorflow\\workspace\\images\\collectedimages\\peignecheveux\\peignecheveux.4dff3972-95ff-11ec-b07d-94e979d6190c.jpg -> Annotation:C:/Users/damaro/detection_objet_tensorflow/TFODCourse/tensorflow/workspace/images/collectedimages/peignecheveux/peignecheveux.4dff3972-95ff-11ec-b07d-94e979d6190c.xml\n",
      "Image:C:\\Users\\damaro\\detection_objet_tensorflow\\TFODCourse\\tensorflow\\workspace\\images\\collectedimages\\peignecheveux\\peignecheveux.4f35bdab-95ff-11ec-a6a5-94e979d6190c.jpg -> Annotation:C:/Users/damaro/detection_objet_tensorflow/TFODCourse/tensorflow/workspace/images/collectedimages/peignecheveux/peignecheveux.4f35bdab-95ff-11ec-a6a5-94e979d6190c.xml\n",
      "Image:C:\\Users\\damaro\\detection_objet_tensorflow\\TFODCourse\\tensorflow\\workspace\\images\\collectedimages\\peignecheveux\\peignecheveux.51a49abe-95ff-11ec-ad51-94e979d6190c.jpg -> Annotation:C:/Users/damaro/detection_objet_tensorflow/TFODCourse/tensorflow/workspace/images/collectedimages/peignecheveux/peignecheveux.51a49abe-95ff-11ec-ad51-94e979d6190c.xml\n",
      "Image:C:\\Users\\damaro\\detection_objet_tensorflow\\TFODCourse\\tensorflow\\workspace\\images\\collectedimages\\peignecheveux\\peignecheveux.52db942b-95ff-11ec-8d28-94e979d6190c.jpg -> Annotation:C:/Users/damaro/detection_objet_tensorflow/TFODCourse/tensorflow/workspace/images/collectedimages/peignecheveux/peignecheveux.52db942b-95ff-11ec-8d28-94e979d6190c.xml\n",
      "Image:C:\\Users\\damaro\\detection_objet_tensorflow\\TFODCourse\\tensorflow\\workspace\\images\\collectedimages\\peignecheveux\\peignecheveux.506cde2d-95ff-11ec-9cb1-94e979d6190c.jpg -> Annotation:C:/Users/damaro/detection_objet_tensorflow/TFODCourse/tensorflow/workspace/images/collectedimages/peignecheveux/peignecheveux.506cde2d-95ff-11ec-9cb1-94e979d6190c.xml\n",
      "Image:C:\\Users\\damaro\\detection_objet_tensorflow\\TFODCourse\\tensorflow\\workspace\\images\\collectedimages\\telephone\\telephone.5a89d392-95ff-11ec-ad2f-94e979d6190c.jpg -> Annotation:C:/Users/damaro/detection_objet_tensorflow/TFODCourse/tensorflow/workspace/images/collectedimages/telephone/telephone.5a89d392-95ff-11ec-ad2f-94e979d6190c.xml\n",
      "Image:C:\\Users\\damaro\\detection_objet_tensorflow\\TFODCourse\\tensorflow\\workspace\\images\\collectedimages\\telephone\\telephone.5bbcae32-95ff-11ec-b63c-94e979d6190c.jpg -> Annotation:C:/Users/damaro/detection_objet_tensorflow/TFODCourse/tensorflow/workspace/images/collectedimages/telephone/telephone.5bbcae32-95ff-11ec-b63c-94e979d6190c.xml\n",
      "Image:C:\\Users\\damaro\\detection_objet_tensorflow\\TFODCourse\\tensorflow\\workspace\\images\\collectedimages\\telephone\\telephone.5cf29618-95ff-11ec-b74a-94e979d6190c.jpg -> Annotation:C:/Users/damaro/detection_objet_tensorflow/TFODCourse/tensorflow/workspace/images/collectedimages/telephone/telephone.5cf29618-95ff-11ec-b74a-94e979d6190c.xml\n",
      "Image:C:\\Users\\damaro\\detection_objet_tensorflow\\TFODCourse\\tensorflow\\workspace\\images\\collectedimages\\telephone\\telephone.5e285704-95ff-11ec-8ccf-94e979d6190c.jpg -> Annotation:C:/Users/damaro/detection_objet_tensorflow/TFODCourse/tensorflow/workspace/images/collectedimages/telephone/telephone.5e285704-95ff-11ec-8ccf-94e979d6190c.xml\n",
      "Image:C:\\Users\\damaro\\detection_objet_tensorflow\\TFODCourse\\tensorflow\\workspace\\images\\collectedimages\\telephone\\telephone.5f5eb422-95ff-11ec-aec2-94e979d6190c.jpg -> Annotation:C:/Users/damaro/detection_objet_tensorflow/TFODCourse/tensorflow/workspace/images/collectedimages/telephone/telephone.5f5eb422-95ff-11ec-aec2-94e979d6190c.xml\n",
      "Image:C:\\Users\\damaro\\detection_objet_tensorflow\\TFODCourse\\tensorflow\\workspace\\images\\collectedimages\\telephone\\telephone.581cf246-95ff-11ec-a77e-94e979d6190c.jpg -> Annotation:C:/Users/damaro/detection_objet_tensorflow/TFODCourse/tensorflow/workspace/images/collectedimages/telephone/telephone.581cf246-95ff-11ec-a77e-94e979d6190c.xml\n",
      "Image:C:\\Users\\damaro\\detection_objet_tensorflow\\TFODCourse\\tensorflow\\workspace\\images\\collectedimages\\telephone\\telephone.5950b74a-95ff-11ec-bb5b-94e979d6190c.jpg -> Annotation:C:/Users/damaro/detection_objet_tensorflow/TFODCourse/tensorflow/workspace/images/collectedimages/telephone/telephone.5950b74a-95ff-11ec-bb5b-94e979d6190c.xml\n"
     ]
    }
   ],
   "source": [
    "!cd {LABEL_IMAGES_PATH} && python labelImg.py"
   ]
  },
  {
   "cell_type": "markdown",
   "id": "1110dcda-94c3-4670-b924-bc4ff30a280c",
   "metadata": {},
   "source": [
    "## Déplacez-les dans une partition de train et de test"
   ]
  },
  {
   "cell_type": "markdown",
   "id": "0ff033ba-de19-4b12-b704-f559c190e9bb",
   "metadata": {},
   "source": [
    "## FACULTATIF -  Compressez-les pour la train Colab¶"
   ]
  },
  {
   "cell_type": "code",
   "execution_count": 30,
   "id": "1d910359-04e0-4292-800f-9e9e11b1fa62",
   "metadata": {},
   "outputs": [],
   "source": [
    "TRAIN_PATH = os.path.join('Tensorflow', 'workspace', 'images', 'train')\n",
    "TEST_PATH = os.path.join('Tensorflow', 'workspace', 'images', 'test')\n",
    "ARCHIVE_PATH = os.path.join('Tensorflow', 'workspace', 'images', 'archive.tar.gz')"
   ]
  },
  {
   "cell_type": "code",
   "execution_count": null,
   "id": "cfa996fb-0150-4159-a517-662b1956e3e0",
   "metadata": {},
   "outputs": [],
   "source": []
  }
 ],
 "metadata": {
  "kernelspec": {
   "display_name": "tfod",
   "language": "python",
   "name": "tfod"
  },
  "language_info": {
   "codemirror_mode": {
    "name": "ipython",
    "version": 3
   },
   "file_extension": ".py",
   "mimetype": "text/x-python",
   "name": "python",
   "nbconvert_exporter": "python",
   "pygments_lexer": "ipython3",
   "version": "3.8.5"
  }
 },
 "nbformat": 4,
 "nbformat_minor": 5
}
