{
 "cells": [
  {
   "cell_type": "markdown",
   "id": "aafd5d92-7689-453c-8017-7347c7729ee3",
   "metadata": {},
   "source": [
    "## Collection des images"
   ]
  },
  {
   "cell_type": "code",
   "execution_count": 3,
   "id": "ac32bb57-55d3-4d06-bd19-c82eaa20b3cb",
   "metadata": {},
   "outputs": [],
   "source": [
    "# !pip install opencv-python"
   ]
  },
  {
   "cell_type": "markdown",
   "id": "100b5580-cee1-4b81-bdf4-88680351a34e",
   "metadata": {},
   "source": [
    "## Importation des Packages"
   ]
  },
  {
   "cell_type": "code",
   "execution_count": 4,
   "id": "b6a3a5dc-d344-48f7-9101-c78f30934875",
   "metadata": {},
   "outputs": [],
   "source": [
    "# OpenCV\n",
    "import cv2\n",
    "\n",
    "# uuid\n",
    "import uuid\n",
    "\n",
    "## Opérations sur le Système d'exploitation\n",
    "import os\n",
    "\n",
    "# la gestion du temps\n",
    "import time"
   ]
  },
  {
   "cell_type": "markdown",
   "id": "9ecf3409-4462-46eb-a1c8-fe4745631e00",
   "metadata": {},
   "source": [
    "## Définition des images à collecter"
   ]
  },
  {
   "cell_type": "code",
   "execution_count": 5,
   "id": "6440691d-881d-494d-8f73-59b7ab1ab8bc",
   "metadata": {},
   "outputs": [],
   "source": [
    "labels = ['thumbsup', 'thumbsdown', 'thankyou', 'livelong']\n",
    "number_images = 5"
   ]
  },
  {
   "cell_type": "markdown",
   "id": "2f0450c1-30bc-4a40-ac4d-2dfc1d5cf55d",
   "metadata": {},
   "source": [
    "## Configuration du dossier des images"
   ]
  },
  {
   "cell_type": "code",
   "execution_count": 11,
   "id": "9c2be974-0c7c-4f47-b6a7-9328e4089ca5",
   "metadata": {},
   "outputs": [],
   "source": [
    "IMAGES_PATH = os.path.join('.', 'tensorflow', 'workspace', 'images', 'collectedimages')"
   ]
  },
  {
   "cell_type": "code",
   "execution_count": 12,
   "id": "d09cc932-1796-4f0a-ae29-21181c3746cd",
   "metadata": {},
   "outputs": [
    {
     "data": {
      "text/plain": [
       "'.\\\\tensorflow\\\\workspace\\\\images\\\\collectedimages'"
      ]
     },
     "execution_count": 12,
     "metadata": {},
     "output_type": "execute_result"
    }
   ],
   "source": [
    "IMAGES_PATH"
   ]
  },
  {
   "cell_type": "code",
   "execution_count": 13,
   "id": "1867edb3-5f6c-4dfe-a451-12571abea851",
   "metadata": {},
   "outputs": [],
   "source": [
    "if not os.path.exists(IMAGES_PATH):\n",
    "    if os.name == 'posix':\n",
    "        !mkdir - {IMAGES_PATH}\n",
    "    if os.name == 'nt':\n",
    "        !mkdir {IMAGES_PATH}\n",
    "        \n",
    "for label in labels:\n",
    "    path = os.path.join(IMAGES_PATH, label)\n",
    "    if not os.path.exists(path):\n",
    "        !mkdir {path}"
   ]
  },
  {
   "cell_type": "code",
   "execution_count": null,
   "id": "c4dbc198-9853-4e56-a7de-968a46eb0519",
   "metadata": {},
   "outputs": [],
   "source": []
  },
  {
   "cell_type": "code",
   "execution_count": null,
   "id": "90488f39-b900-4a3b-81a6-1a46280a0372",
   "metadata": {},
   "outputs": [],
   "source": []
  }
 ],
 "metadata": {
  "kernelspec": {
   "display_name": "tfod",
   "language": "python",
   "name": "tfod"
  },
  "language_info": {
   "codemirror_mode": {
    "name": "ipython",
    "version": 3
   },
   "file_extension": ".py",
   "mimetype": "text/x-python",
   "name": "python",
   "nbconvert_exporter": "python",
   "pygments_lexer": "ipython3",
   "version": "3.8.5"
  }
 },
 "nbformat": 4,
 "nbformat_minor": 5
}
